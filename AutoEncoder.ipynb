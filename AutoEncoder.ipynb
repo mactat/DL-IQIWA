{
  "nbformat": 4,
  "nbformat_minor": 0,
  "metadata": {
    "colab": {
      "name": "AutoEncoder.ipynb",
      "provenance": [],
      "authorship_tag": "ABX9TyPlQO6Vrq8wGPc0wkus23Gs",
      "include_colab_link": true
    },
    "kernelspec": {
      "name": "python3",
      "display_name": "Python 3"
    },
    "language_info": {
      "name": "python"
    }
  },
  "cells": [
    {
      "cell_type": "markdown",
      "metadata": {
        "id": "view-in-github",
        "colab_type": "text"
      },
      "source": [
        "<a href=\"https://colab.research.google.com/github/mactat/DL-IQIWA/blob/main/AutoEncoder.ipynb\" target=\"_parent\"><img src=\"https://colab.research.google.com/assets/colab-badge.svg\" alt=\"Open In Colab\"/></a>"
      ]
    },
    {
      "cell_type": "code",
      "metadata": {
        "id": "zCSl1HEeajDZ"
      },
      "source": [
        "%matplotlib inline\n",
        "import matplotlib.pyplot as plt\n",
        "import numpy as np\n",
        "\n",
        "import torch\n",
        "import torchvision\n",
        "import torchvision.transforms as transforms\n",
        "import random\n",
        "from PIL import Image \n",
        "import copy\n",
        "\n",
        "from torch import nn, Tensor\n",
        "from torch.distributions import Distribution\n",
        "\n",
        "from torch.utils.data import DataLoader\n",
        "from torchvision.transforms import ToTensor\n",
        "import torch.nn.functional as F"
      ],
      "execution_count": 1,
      "outputs": []
    },
    {
      "cell_type": "markdown",
      "metadata": {
        "id": "elTNmPgSy4Mr"
      },
      "source": [
        "## Load Dataset ##"
      ]
    },
    {
      "cell_type": "code",
      "metadata": {
        "colab": {
          "base_uri": "https://localhost:8080/"
        },
        "id": "sSET6jwYa-uT",
        "outputId": "42d5d706-4595-4958-9b4e-5a349e15015b"
      },
      "source": [
        "\n",
        "transform = transforms.Compose([\n",
        "    transforms.ToTensor()\n",
        "])\n",
        "\n",
        "batch_size = 1\n",
        "\n",
        "# Train and validation\n",
        "trainset = torchvision.datasets.CIFAR10(root='./data', train=True, download=True, transform=transform)\n",
        "\n",
        "train_size = int(0.8 * len(trainset))\n",
        "test_size = len(trainset) - train_size\n",
        "train_dataset, validation_dataset = torch.utils.data.random_split(trainset, [train_size, test_size])\n",
        "\n",
        "train_dataloader = DataLoader(trainset, batch_size=batch_size, shuffle=True)\n",
        "validation_dataloader = DataLoader(trainset, batch_size=batch_size, shuffle=True)\n",
        "\n",
        "#Test\n",
        "testset = torchvision.datasets.CIFAR10(root='./data', train=False, download=True, transform=transform)\n",
        "test_dataloader = DataLoader(testset, batch_size=batch_size, shuffle=True)"
      ],
      "execution_count": 2,
      "outputs": [
        {
          "output_type": "stream",
          "name": "stdout",
          "text": [
            "Files already downloaded and verified\n",
            "Files already downloaded and verified\n"
          ]
        }
      ]
    },
    {
      "cell_type": "markdown",
      "metadata": {
        "id": "hcM3kNfjzasT"
      },
      "source": [
        "## Settings ##"
      ]
    },
    {
      "cell_type": "code",
      "metadata": {
        "id": "U2uWNdM7zde0"
      },
      "source": [
        "device = torch.device(\"cuda:0\" if torch.cuda.is_available() else \"cpu\")"
      ],
      "execution_count": 3,
      "outputs": []
    },
    {
      "cell_type": "markdown",
      "metadata": {
        "id": "8ozHQgMigle-"
      },
      "source": [
        "## Model ##"
      ]
    },
    {
      "cell_type": "code",
      "metadata": {
        "id": "ElWETat-gnDL"
      },
      "source": [
        "class Encoder(nn.Module):\n",
        "    def __init__(self):\n",
        "        super(Encoder, self).__init__()\n",
        "        self.conv1 = nn.Conv2d(in_channels=3, out_channels=16, kernel_size=4, stride=2, padding=1) # out: c x 16 x 16\n",
        "        self.pool1 = nn.MaxPool2d((2, 2))\n",
        "        self.conv2 = nn.Conv2d(in_channels=16, out_channels=8, kernel_size=4, stride=2, padding=1) # out: c x 7 x 7\n",
        "            \n",
        "    def forward(self, x):\n",
        "        x = F.relu(self.conv1(x))\n",
        "        x = F.relu(self.conv2(x))\n",
        "\n",
        "        return x\n",
        "\n",
        "class Decoder(nn.Module):\n",
        "    def __init__(self):\n",
        "        super(Decoder, self).__init__()\n",
        "        self.upSample = nn.Upsample(size=(2,2))\n",
        "        self.conv1 = nn.ConvTranspose2d(in_channels=8, out_channels=16, kernel_size=4, stride=2, padding=1)\n",
        "        self.conv2 = nn.ConvTranspose2d(in_channels=16, out_channels=3, kernel_size=4, stride=2, padding=1)\n",
        "            \n",
        "    def forward(self, x):\n",
        "        x = F.relu(self.conv1(x))\n",
        "        x = torch.sigmoid(self.conv2(x))\n",
        "        # x = self.upSample(x)\n",
        "        # x = torch.sigmoid(self.conv2(x))\n",
        "        return x\n",
        "    \n",
        "class VariationalAutoencoder(nn.Module):\n",
        "    def __init__(self):\n",
        "        super(VariationalAutoencoder, self).__init__()\n",
        "        self.encoder = Encoder()\n",
        "        self.decoder = Decoder()\n",
        "    \n",
        "    def forward(self, x):\n",
        "        x = self.encoder(x)\n",
        "        x = self.decoder(x)\n",
        "        return x\n"
      ],
      "execution_count": 4,
      "outputs": []
    },
    {
      "cell_type": "markdown",
      "metadata": {
        "id": "JOttmhlugwHs"
      },
      "source": [
        "## Train ##\n"
      ]
    },
    {
      "cell_type": "code",
      "metadata": {
        "id": "EV7cGQp251er"
      },
      "source": [
        "def train(dataloader, model, loss_fn, optimizer):\n",
        "    size = len(dataloader.dataset)\n",
        "    model.train()\n",
        "    for batch, (image_batch, _) in enumerate(train_dataloader):\n",
        "        image_batch = image_batch.to(device)\n",
        "\n",
        "        # Compute prediction error\n",
        "        pred = model(image_batch)\n",
        "        loss = loss_fn(pred, image_batch)\n",
        "\n",
        "        # Backpropagation\n",
        "        optimizer.zero_grad()\n",
        "        loss.backward()\n",
        "        optimizer.step()\n",
        "\n",
        "        if batch % 10000 == 0:\n",
        "            loss, current = loss.item(), batch * len(image_batch)\n",
        "            print(f\"loss: {loss:>7f}  [{current:>5d}/{size:>5d}]\")"
      ],
      "execution_count": 5,
      "outputs": []
    },
    {
      "cell_type": "code",
      "metadata": {
        "id": "mSkuaize6APp"
      },
      "source": [
        "def validate(dataloader, model, loss_fn):\n",
        "    size = len(dataloader.dataset)\n",
        "    num_batches = len(dataloader)\n",
        "    model.eval()\n",
        "    test_loss, correct = 0, 0\n",
        "    with torch.no_grad():\n",
        "        for image_batch, _ in dataloader:\n",
        "            image_batch = image_batch.to(device)\n",
        "            pred = model(image_batch)\n",
        "            test_loss += loss_fn(pred, image_batch).item()\n",
        "    test_loss /= num_batches\n",
        "    \n",
        "    return test_loss"
      ],
      "execution_count": 6,
      "outputs": []
    },
    {
      "cell_type": "code",
      "metadata": {
        "colab": {
          "base_uri": "https://localhost:8080/"
        },
        "id": "AwWkgWNgnHDo",
        "outputId": "1789153b-e006-4694-b6ea-679818eec270"
      },
      "source": [
        "# Parameters for training\n",
        "vae = VariationalAutoencoder()\n",
        "vae = vae.to(device)\n",
        "\n",
        "num_params = sum(p.numel() for p in vae.parameters() if p.requires_grad)\n",
        "print('Number of parameters: %d' % num_params)\n",
        "\n",
        "learning_rate = 1e-3\n",
        "num_epochs = 3\n",
        "\n",
        "optimizer = torch.optim.Adam(params=vae.parameters(), lr=learning_rate, weight_decay=1e-5)\n",
        "criterion = nn.MSELoss()"
      ],
      "execution_count": 7,
      "outputs": [
        {
          "output_type": "stream",
          "name": "stdout",
          "text": [
            "Number of parameters: 5675\n"
          ]
        }
      ]
    },
    {
      "cell_type": "code",
      "metadata": {
        "id": "ie728Rd66mEU",
        "outputId": "7cd12f06-d3a4-4456-c01b-0f84e3d27f4d",
        "colab": {
          "base_uri": "https://localhost:8080/"
        }
      },
      "source": [
        "val_loss_avg = []\n",
        "for t in range(num_epochs):\n",
        "    print(f\"Epoch {t+1}\\n-------------------------------\")\n",
        "    train(train_dataloader, vae, criterion, optimizer)\n",
        "    val_loss = validate(validation_dataloader, vae, criterion)\n",
        "    print(f\"Test Error: \\n Avg loss: {val_loss:>8f} \\n\")\n",
        "    val_loss_avg.append(val_loss)\n",
        "print(\"Done!\")"
      ],
      "execution_count": 8,
      "outputs": [
        {
          "output_type": "stream",
          "name": "stdout",
          "text": [
            "Epoch 1\n",
            "-------------------------------\n",
            "loss: 0.139612  [    0/50000]\n",
            "loss: 0.003709  [10000/50000]\n",
            "loss: 0.001878  [20000/50000]\n",
            "loss: 0.002674  [30000/50000]\n",
            "loss: 0.001406  [40000/50000]\n",
            "Test Error: \n",
            " Avg loss: 0.002136 \n",
            "\n",
            "Epoch 2\n",
            "-------------------------------\n",
            "loss: 0.001368  [    0/50000]\n",
            "loss: 0.000889  [10000/50000]\n",
            "loss: 0.002392  [20000/50000]\n",
            "loss: 0.001655  [30000/50000]\n",
            "loss: 0.001903  [40000/50000]\n",
            "Test Error: \n",
            " Avg loss: 0.001909 \n",
            "\n",
            "Epoch 3\n",
            "-------------------------------\n",
            "loss: 0.001346  [    0/50000]\n",
            "loss: 0.001256  [10000/50000]\n",
            "loss: 0.001817  [20000/50000]\n",
            "loss: 0.004049  [30000/50000]\n",
            "loss: 0.001655  [40000/50000]\n",
            "Test Error: \n",
            " Avg loss: 0.001928 \n",
            "\n",
            "Done!\n"
          ]
        }
      ]
    },
    {
      "cell_type": "code",
      "metadata": {
        "id": "EZ4f6EiAlRj3",
        "colab": {
          "base_uri": "https://localhost:8080/",
          "height": 279
        },
        "outputId": "7bb2fabf-ba03-442c-96de-6bf367d610d5"
      },
      "source": [
        "import matplotlib.pyplot as plt\n",
        "plt.ion()\n",
        "\n",
        "fig = plt.figure()\n",
        "plt.plot(val_loss_avg)\n",
        "plt.xlabel('Epochs')\n",
        "plt.ylabel('Loss')\n",
        "plt.show()"
      ],
      "execution_count": 9,
      "outputs": [
        {
          "output_type": "display_data",
          "data": {
            "image/png": "[encoded data removed]",
            "text/plain": [
              "<Figure size 432x288 with 1 Axes>"
            ]
          },
          "metadata": {
            "needs_background": "light"
          }
        }
      ]
    },
    {
      "cell_type": "markdown",
      "metadata": {
        "id": "DxA5iMOWzzzq"
      },
      "source": [
        "## Evaluation"
      ]
    },
    {
      "cell_type": "code",
      "metadata": {
        "id": "1Wn7FfzTlrAN",
        "colab": {
          "base_uri": "https://localhost:8080/"
        },
        "outputId": "f5c87a03-03d3-4866-9148-d402d1bd3f1e"
      },
      "source": [
        "test_loss = validate(test_dataloader, vae, criterion)\n",
        "print('average reconstruction error: %f' % (test_loss))"
      ],
      "execution_count": 10,
      "outputs": [
        {
          "output_type": "stream",
          "name": "stdout",
          "text": [
            "average reconstruction error: 0.001930\n"
          ]
        }
      ]
    },
    {
      "cell_type": "code",
      "metadata": {
        "id": "ouY5IOHQlvIk",
        "colab": {
          "base_uri": "https://localhost:8080/",
          "height": 1000
        },
        "outputId": "fd9b1ff2-3550-4de4-f265-019916668664"
      },
      "source": [
        "import numpy as np\n",
        "import matplotlib.pyplot as plt\n",
        "plt.ion()\n",
        "\n",
        "import torchvision.utils\n",
        "\n",
        "vae.eval()\n",
        "\n",
        "def to_img(x):\n",
        "    x = x.clamp(0, 1)\n",
        "    return x\n",
        "\n",
        "def show_image_tensor(img):\n",
        "    img = torchvision.utils.make_grid(img,10,5)\n",
        "    img = to_img(img)\n",
        "    npimg = img.numpy()\n",
        "    show_image_numpy(img)\n",
        "\n",
        "def show_image_numpy(img):\n",
        "    plt.imshow(np.transpose(img, (1, 2, 0)))\n",
        "    plt.show()\n",
        "\n",
        "def visualise_output(images, model):\n",
        "\n",
        "    with torch.no_grad():\n",
        "    \n",
        "        images = images.to(device)\n",
        "        images = model(images)\n",
        "        images = images.cpu()\n",
        "        images = to_img(images)\n",
        "        np_imagegrid = torchvision.utils.make_grid(images, 10, 5).numpy()\n",
        "        plt.imshow(np.transpose(np_imagegrid, (1, 2, 0)))\n",
        "        plt.show()\n",
        "\n",
        "images, labels = iter(test_dataloader).next()\n",
        "\n",
        "# First visualise the original images\n",
        "print('Original images')\n",
        "show_image_tensor(images)\n",
        "\n",
        "# Reconstruct and visualise the images using the vae\n",
        "print('VAE reconstruction:')\n",
        "visualise_output(images, vae)\n",
        "\n",
        "# noise\n",
        "noise = np.random.normal(0, 0.2, images.numpy()[0].shape)\n",
        "images = images + noise\n",
        "show_image_tensor(images)\n",
        "\n",
        "images = images.float()\n",
        "visualise_output(images, vae)\n"
      ],
      "execution_count": 11,
      "outputs": [
        {
          "output_type": "stream",
          "name": "stdout",
          "text": [
            "Original images\n"
          ]
        },
        {
          "output_type": "display_data",
          "data": {
            "image/png": "[encoded data removed]",
            "text/plain": [
              "<Figure size 432x288 with 1 Axes>"
            ]
          },
          "metadata": {
            "needs_background": "light"
          }
        },
        {
          "output_type": "stream",
          "name": "stdout",
          "text": [
            "VAE reconstruction:\n"
          ]
        },
        {
          "output_type": "display_data",
          "data": {
            "image/png": "[encoded data removed]",
            "text/plain": [
              "<Figure size 432x288 with 1 Axes>"
            ]
          },
          "metadata": {
            "needs_background": "light"
          }
        },
        {
          "output_type": "display_data",
          "data": {
            "image/png": "[encoded data removed]",
            "text/plain": [
              "<Figure size 432x288 with 1 Axes>"
            ]
          },
          "metadata": {
            "needs_background": "light"
          }
        },
        {
          "output_type": "display_data",
          "data": {
            "image/png": "[encoded data removed]",
            "text/plain": [
              "<Figure size 432x288 with 1 Axes>"
            ]
          },
          "metadata": {
            "needs_background": "light"
          }
        }
      ]
    }
  ]
}