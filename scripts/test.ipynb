{
 "cells": [
  {
   "cell_type": "code",
   "execution_count": 36,
   "metadata": {},
   "outputs": [
    {
     "name": "stdout",
     "output_type": "stream",
     "text": [
      "AutoEncoder.ipynb\t\t  data\n",
      "AutoEncoder_Pool_Upsample.ipynb   data_loading.ipynb\n",
      "Vae.ipynb\t\t\t  dogs-vs-cats.zip\n",
      "cat_dog_data_loading.ipynb\t  sampleSubmission.csv\n",
      "cat_dog_data_loading_model.ipynb  test1.zip\n",
      "cat_dog_res_enh.ipynb\t\t  train.zip\n",
      "chmod: cannot access '/root/scripts/data_extraction.sh': No such file or directory\n",
      "/bin/sh: 1: ./data_extraction.sh: not found\n"
     ]
    }
   ],
   "source": [
    "\n",
    "! ls\n",
    "! chmod +x ~/scripts/data_extraction.sh\n",
    "! ./data_extraction.sh"
   ]
  }
 ],
 "metadata": {
  "kernelspec": {
   "display_name": "Python 3",
   "language": "python",
   "name": "python3"
  },
  "language_info": {
   "codemirror_mode": {
    "name": "ipython",
    "version": 3
   },
   "file_extension": ".py",
   "mimetype": "text/x-python",
   "name": "python",
   "nbconvert_exporter": "python",
   "pygments_lexer": "ipython3",
   "version": "3.6.9"
  },
  "orig_nbformat": 4
 },
 "nbformat": 4,
 "nbformat_minor": 2
}
