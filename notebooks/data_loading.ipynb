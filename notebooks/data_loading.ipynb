{
  "nbformat": 4,
  "nbformat_minor": 0,
  "metadata": {
    "colab": {
      "name": "data-loading.ipynb",
      "provenance": []
    },
    "kernelspec": {
      "name": "python3",
      "display_name": "Python 3"
    },
    "language_info": {
      "name": "python"
    }
  },
  "cells": [
    {
      "cell_type": "markdown",
      "metadata": {
        "id": "1hq0p501DC8q"
      },
      "source": [
        "###Loading CIFAR10 dataset"
      ]
    },
    {
      "cell_type": "code",
      "metadata": {
        "id": "YCYerYfDC31y"
      },
      "source": [
        "%matplotlib inline\n",
        "import matplotlib.pyplot as plt\n",
        "import numpy as np\n",
        "\n",
        "import torch\n",
        "import torchvision\n",
        "import torchvision.transforms as transforms\n",
        "import random\n",
        "from PIL import Image, ImageEnhance \n",
        "import copy"
      ],
      "execution_count": 152,
      "outputs": []
    },
    {
      "cell_type": "code",
      "metadata": {
        "colab": {
          "base_uri": "https://localhost:8080/"
        },
        "id": "XItm-RdgDJNQ",
        "outputId": "e3b212ac-1d9c-4215-885f-bc699ede9dda"
      },
      "source": [
        "transform = transforms.Compose(\n",
        "    [transforms.ToTensor(),\n",
        "     transforms.Normalize((0.5, 0.5, 0.5),(0.5, 0.5, 0.5))\n",
        "    ]\n",
        ")\n",
        "\n",
        "# Load dataset\n",
        "trainset = torchvision.datasets.CIFAR10(root='./data', train=True,\n",
        "                                        download=True)#, transform=transform)\n",
        "testset = torchvision.datasets.CIFAR10(root='./data', train=False,\n",
        "                                       download=True)#, transform=transform)\n",
        "\n",
        "\n",
        "# classes\n",
        "classes = ('plane', 'car', 'bird', 'cat', 'deer',\n",
        "           'dog', 'frog', 'horse', 'ship', 'truck')\n",
        "\n",
        "used_categories = range(len(classes))\n",
        "\n",
        "## USE CODE TO CHOSE PART OF DATASET\n",
        "reduce_dataset = False\n",
        "if reduce_dataset:\n",
        "    used_categories = (0,9) # select classes\n",
        "\n",
        "    classes = [classes[i] for i in used_categories]\n",
        "    new_train_data = []\n",
        "    new_train_labels = []\n",
        "\n",
        "    new_test_data = []\n",
        "    new_test_labels = []\n",
        "    for i, t in enumerate(used_categories):\n",
        "        new_train_data.append(trainset.data[np.where(np.array(trainset.targets) == t)])\n",
        "        new_train_labels += [i for _ in range(new_train_data[-1].shape[0])]\n",
        "\n",
        "        new_test_data.append(testset.data[np.where(np.array(testset.targets) == t)])\n",
        "        new_test_labels += [i for _ in range(new_test_data[-1].shape[0])]\n",
        "\n",
        "    new_train_data = np.concatenate(new_train_data, 0)\n",
        "    trainset.data = new_train_data\n",
        "    trainset.targets = new_train_labels\n",
        "\n",
        "    new_test_data = np.concatenate(new_test_data, 0)\n",
        "    testset.data = new_test_data\n",
        "    testset.targets = new_test_labels\n"
      ],
      "execution_count": 153,
      "outputs": [
        {
          "output_type": "stream",
          "name": "stdout",
          "text": [
            "Files already downloaded and verified\n",
            "Files already downloaded and verified\n"
          ]
        }
      ]
    },
    {
      "cell_type": "code",
      "metadata": {
        "id": "YuB3Bs01NJId"
      },
      "source": [
        "# salt and pepper\n",
        "\n",
        "def salt_and_peper(arr,noise_percentage = 25):\n",
        "  black = [0, 0, 0]\n",
        "  white = [255, 255, 255]\n",
        "  colors = [white,black]\n",
        "  trainNoiseSalt = []\n",
        "  trainNumpyCopy = copy.deepcopy(arr)\n",
        "  for sample in trainNumpyCopy:\n",
        "    length = len(sample[0]) #assume that those are squared\n",
        "    for _ in range(int(noise_percentage/100*length*length)):\n",
        "      rand_x = random.randint(0,length-1)\n",
        "      rand_y = random.randint(0,length-1)\n",
        "      rand_color = random.randint(0,1)\n",
        "      sample[rand_x][rand_y] = colors[rand_color]\n",
        "    trainNoiseSalt.append(Image.fromarray(sample))\n",
        "  return trainNoiseSalt\n",
        "\n",
        "\n"
      ],
      "execution_count": 155,
      "outputs": []
    },
    {
      "cell_type": "code",
      "metadata": {
        "id": "2de127YRbM0y"
      },
      "source": [
        "# too dark\n",
        "def darker(arr, darkness_level = 50):\n",
        "  trainDarknessNoise = []\n",
        "  for sample in arr:\n",
        "    withNoise = np.floor_divide(sample, (100/darkness_level)).astype(np.uint8)\n",
        "    trainDarknessNoise.append(Image.fromarray(withNoise))\n",
        "  return trainDarknessNoise\n"
      ],
      "execution_count": 158,
      "outputs": []
    },
    {
      "cell_type": "code",
      "metadata": {
        "id": "HLmHFCWOhj3z"
      },
      "source": [
        "#too bright\n",
        "\n",
        "def brighter(arr, brightness_level = 150):\n",
        "  brightness_level /= 100\n",
        "  trainBrightNoise = []\n",
        "  for sample in arr:\n",
        "    enhancer = ImageEnhance.Brightness(Image.fromarray(sample))\n",
        "    enhanced_im = enhancer.enhance(brightness_level)\n",
        "    trainBrightNoise.append(enhanced_im)\n",
        "  return trainBrightNoise\n"
      ],
      "execution_count": 159,
      "outputs": []
    },
    {
      "cell_type": "code",
      "metadata": {
        "id": "gMfc6ZeDNf8n"
      },
      "source": [
        "trainloader = torch.utils.data.DataLoader(trainset, num_workers=2)\n",
        "testloader = torch.utils.data.DataLoader(testset, num_workers=2)\n",
        "train_data_iter = iter(trainloader)\n",
        "test_data_iter = iter(testloader)\n",
        "print('used classes:', classes)"
      ],
      "execution_count": null,
      "outputs": []
    },
    {
      "cell_type": "code",
      "metadata": {
        "colab": {
          "base_uri": "https://localhost:8080/"
        },
        "id": "voE9vd9PDkIk",
        "outputId": "b8aa8b4b-e08d-4f4e-b612-f001c3f0be14"
      },
      "source": [
        "print(\"# Training data\")\n",
        "print(\"Number of points:\", len(trainset))\n",
        "x, y = next(iter(trainloader))\n",
        "print(\"Dimension [C x H x W]:\", x.shape[1:])\n",
        "print(\"Number of distinct labels:\", len(set(trainset.targets)))\n",
        "\n",
        "\n",
        "print(\"\\n# Test data\")\n",
        "print(\"Number of points:\", len(testset))\n",
        "x, y = next(iter(testloader))\n",
        "print(\"Dimension [C x H x W]:\", x.shape[1:])\n",
        "print(\"Number of distinct labels:\", len(set(testset.targets)))"
      ],
      "execution_count": 162,
      "outputs": [
        {
          "output_type": "stream",
          "name": "stdout",
          "text": [
            "# Training data\n",
            "Number of points: 50000\n",
            "Dimension [C x H x W]: torch.Size([3, 32, 32])\n",
            "Number of distinct labels: 10\n",
            "\n",
            "# Test data\n",
            "Number of points: 10000\n",
            "Dimension [C x H x W]: torch.Size([3, 32, 32])\n",
            "Number of distinct labels: 10\n"
          ]
        }
      ]
    },
    {
      "cell_type": "code",
      "metadata": {
        "id": "UKizUomGqNmr"
      },
      "source": [
        "# to numpy\n",
        "trainNump = [np.array(sample[0]) for sample in trainset]\n",
        "example = trainNump[0]\n",
        "\n",
        "#salt_and_pepper\n",
        "saltAndPepper = salt_and_peper(trainNump, noise_percentage=25)\n",
        "dark = darker(trainNump, darkness_level=70)\n",
        "bright = brighter(trainNump, brightness_level=160)"
      ],
      "execution_count": 175,
      "outputs": []
    },
    {
      "cell_type": "code",
      "metadata": {
        "colab": {
          "base_uri": "https://localhost:8080/",
          "height": 748
        },
        "id": "RbxRkkQrDqwe",
        "outputId": "6b3aae53-0a7e-40c1-8568-da03576a4787"
      },
      "source": [
        "# Run this cell multiple time to see more samples\n",
        "\n",
        "def imshow(img):\n",
        "    \"\"\" show an image \"\"\"\n",
        "    img = img / 2 + 0.5 # unnormalize\n",
        "    npimg = img.numpy()\n",
        "    plt.imshow(np.transpose(npimg, (1, 2, 0)))\n",
        "\n",
        "\n",
        "# get some random training images\n",
        "#images, labels = train_data_iter.next()\n",
        "\n",
        "# show images\n",
        "#imshow(torchvision.utils.make_grid(images))\n",
        "\n",
        "# print labels\n",
        "#print(f\"{ classes[labels] }\")\n",
        "\n",
        "#random image \n",
        "random_ind = random.randint(0,31)\n",
        "\n",
        "#plots\n",
        "f, axarr = plt.subplots(2,2,figsize=[10,10])\n",
        "f.tight_layout()\n",
        "\n",
        "axarr[0,0].set_title(\"Original\")\n",
        "axarr[0,0].imshow(trainNump[random_ind])\n",
        "\n",
        "axarr[0,1].set_title(\"Salt and pepper\")\n",
        "axarr[0,1].imshow(saltAndPepper[random_ind])\n",
        "\n",
        "axarr[1,0].set_title(\"Darker\")\n",
        "axarr[1,0].imshow(dark[random_ind])\n",
        "\n",
        "axarr[1,1].set_title(\"Brighter\")\n",
        "axarr[1,1].imshow(bright[random_ind])\n",
        "\n"
      ],
      "execution_count": 177,
      "outputs": [
        {
          "output_type": "execute_result",
          "data": {
            "text/plain": [
              "<matplotlib.image.AxesImage at 0x7f0318e58790>"
            ]
          },
          "metadata": {},
          "execution_count": 177
        },
        {
          "output_type": "display_data",
          "data": {
            "image/png": "[encoded data removed]",
            "text/plain": [
              "<Figure size 720x720 with 4 Axes>"
            ]
          },
          "metadata": {
            "needs_background": "light"
          }
        }
      ]
    },
    {
      "cell_type": "code",
      "metadata": {
        "id": "9w19qYnPJSlK"
      },
      "source": [
        ""
      ],
      "execution_count": null,
      "outputs": []
    }
  ]
}