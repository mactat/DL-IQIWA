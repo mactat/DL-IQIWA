{
 "cells": [
  {
   "cell_type": "markdown",
   "metadata": {
    "id": "I8svVqu--LDJ"
   },
   "source": [
    "# Cats and dogs image enhancement\n"
   ]
  },
  {
   "cell_type": "markdown",
   "metadata": {
    "id": "0UJSqqfYqVsR"
   },
   "source": [
    "## Download data from Kaggle"
   ]
  },
  {
   "cell_type": "code",
   "execution_count": 1,
   "metadata": {
    "id": "GDXlWIRo-IYM"
   },
   "outputs": [],
   "source": [
    "# ! pip install kaggle #it shoul be there(on local one)\n",
    "# import sys\n",
    "\n",
    "# # if u are in colab you have to upload your kaggle.json\n",
    "# IN_COLAB = 'google.colab' in sys.modules\n",
    "# if IN_COLAB:\n",
    "#   from google.colab import files\n",
    "#   file = files.upload()\n",
    "#   file_name = next(iter(file))\n",
    "\n",
    "# # in other case put your kaggle.json in the main project dir\n",
    "# else: file_name = '../kaggle.json'\n",
    "\n",
    "# ! mkdir -p ~/.kaggle\n",
    "# ! echo $file_name\n",
    "# ! cp $file_name ~/.kaggle/kaggle.json\n",
    "# ! chmod 600 ~/.kaggle/kaggle.json\n",
    "# ! kaggle datasets list"
   ]
  },
  {
   "cell_type": "code",
   "execution_count": 2,
   "metadata": {
    "id": "pjkE7NUo-Z1Q"
   },
   "outputs": [],
   "source": [
    "# download dataset\n",
    "# ! kaggle competitions download -c dogs-vs-cats\n",
    "# ! mkdir -p data\n",
    "# ! unzip -qq -n dogs-vs-cats.zip -d ./\n",
    "# ! unzip -qq -n ./train.zip -d  data\n",
    "# ! unzip -qq -n ./test1.zip -d  data\n",
    "#! rm -f dogs-vs-cats.zip"
   ]
  },
  {
   "cell_type": "markdown",
   "metadata": {
    "id": "hQFd9924qdqa"
   },
   "source": [
    "## Importing and transforming data"
   ]
  },
  {
   "cell_type": "code",
   "execution_count": 3,
   "metadata": {
    "id": "Q75btjFXEKjH"
   },
   "outputs": [],
   "source": [
    "from torch.utils.data import  DataLoader\n",
    "from torch.utils.data.dataset import Dataset\n",
    "from torchvision.io import read_image\n",
    "\n",
    "import torch.nn.functional as F\n",
    "\n",
    "import glob\n",
    "from random import randint\n",
    "\n",
    "from torchvision import datasets, transforms\n",
    "from torchvision.utils import make_grid\n",
    "from torchsummary import summary\n",
    "import torch\n",
    "import torch.nn as nn\n",
    "from torchvision.utils import make_grid\n",
    "from torchvision.utils import save_image\n",
    "from IPython.display import Image\n",
    "import matplotlib.pyplot as plt\n",
    "import numpy as np\n",
    "import random\n",
    "%matplotlib inline"
   ]
  },
  {
   "cell_type": "markdown",
   "metadata": {
    "id": "wLrSEmXFzsLo"
   },
   "source": [
    "### Custom dataset class"
   ]
  },
  {
   "cell_type": "code",
   "execution_count": 4,
   "metadata": {
    "id": "EcJfo4WFUICf"
   },
   "outputs": [],
   "source": [
    "class CatAndDogDataset(Dataset):\n",
    "    def __init__(self, root_dir, transform=None, transform_upscale=None, transform_downscale=None):\n",
    "        self.imgs_path = root_dir\n",
    "        self.file_list = glob.glob(str(self.imgs_path) + \"*.jpg\")\n",
    "        self.data = []\n",
    "        for img_path in self.file_list:\n",
    "            self.data.append(img_path)\n",
    "\n",
    "        \n",
    "        self.transform = transform\n",
    "        if transform_upscale is not None and transform_downscale is not None:\n",
    "            self.transform_up = transform_upscale\n",
    "            self.transform_down = transform_downscale\n",
    "        else:\n",
    "          self.transform_up = transforms.Compose(\n",
    "              [\n",
    "               transforms.ToPILImage(),\n",
    "               transforms.Resize((350, 350)),\n",
    "               transforms.ToTensor()\n",
    "              ]\n",
    "          )\n",
    "          self.transform_down = transforms.Compose(\n",
    "              [\n",
    "                transforms.CenterCrop(size=(350, 350))\n",
    "              ]\n",
    "          )\n",
    "\n",
    "    def __len__(self):\n",
    "        return len(self.data)\n",
    "\n",
    "    def __getitem__(self, idx):\n",
    "        if torch.is_tensor(idx):\n",
    "            idx = idx.tolist()\n",
    "\n",
    "        img_path = self.data[idx]\n",
    "        image = read_image(img_path)\n",
    "\n",
    "        if self.transform:\n",
    "            image = self.transform(image)\n",
    "        if self.transform_up:\n",
    "            image = self.transform_up(image)\n",
    "        if self.transform_down:\n",
    "            image = self.transform_down(image)\n",
    "\n",
    "        return image"
   ]
  },
  {
   "cell_type": "markdown",
   "metadata": {
    "id": "n0Orvz-Uz3kF"
   },
   "source": [
    "### Load and transform image "
   ]
  },
  {
   "cell_type": "code",
   "execution_count": 5,
   "metadata": {
    "id": "meY9O8B35FdB"
   },
   "outputs": [],
   "source": [
    "# If new data is given set this to None\n",
    "min_size = (33, 42)\n",
    "avg_size = (360, 360)\n",
    "input_size = (180, 180)\n",
    "\n",
    "transform = transforms.Compose(\n",
    "    [transforms.Normalize((0.5, 0.5, 0.5), (0.5, 0.5, 0.5))]\n",
    "    )\n",
    "\n",
    "transform_up = transforms.Compose(\n",
    "    [transforms.ToPILImage(),\n",
    "     transforms.Resize(avg_size),\n",
    "     transforms.ToTensor()]\n",
    "     )\n",
    "\n",
    "transform_down = transforms.Compose(\n",
    "    [transforms.CenterCrop(size=avg_size)]\n",
    "    )"
   ]
  },
  {
   "cell_type": "code",
   "execution_count": 6,
   "metadata": {
    "colab": {
     "base_uri": "https://localhost:8080/"
    },
    "id": "q8YhQ-4ZVhNd",
    "outputId": "6a52b55e-cde1-4f86-a601-bafacc9c29dc"
   },
   "outputs": [
    {
     "name": "stdout",
     "output_type": "stream",
     "text": [
      "DataSet loaded!!!\n",
      "Train set size: 20000\n",
      "Validation size: 5000\n",
      "Test set size 12500\n"
     ]
    }
   ],
   "source": [
    "dataset_train = CatAndDogDataset('./data/train/', transform_upscale=transform_up, transform_downscale=transform_down) #, transform=transform, transform_upscale=transform_up, transform_downscale=transform_down\n",
    "dataset_test = CatAndDogDataset('./data/test1/', transform_upscale=transform_up, transform_downscale=transform_down)\n",
    "\n",
    "train_size = int(0.8 * len(dataset_train))\n",
    "test_size = len(dataset_train) - train_size\n",
    "dataset_train, dataset_validation = torch.utils.data.random_split(dataset_train, [train_size, test_size])\n",
    "\n",
    "print(f\"DataSet loaded!!!\\nTrain set size: {len(dataset_train)}\\nValidation size: {len(dataset_validation)}\\nTest set size {len(dataset_test)}\")"
   ]
  },
  {
   "cell_type": "code",
   "execution_count": 7,
   "metadata": {
    "id": "EWtrSmVMs9L1"
   },
   "outputs": [],
   "source": [
    "batch_size = 20\n",
    "\n",
    "dataloader_train = DataLoader(dataset_train, batch_size=batch_size, shuffle=True)\n",
    "dataloader_validation = DataLoader(dataset_validation, batch_size=batch_size, shuffle=True)\n",
    "dataloader_test = DataLoader(dataset_test, batch_size=batch_size, shuffle=True)"
   ]
  },
  {
   "cell_type": "code",
   "execution_count": 8,
   "metadata": {
    "id": "atLPH4DTWThj"
   },
   "outputs": [],
   "source": [
    "def imshow(img):\n",
    "    img = img\n",
    "    npimg = img.numpy()\n",
    "    plt.imshow(np.transpose(npimg, (1, 2, 0)))\n",
    "    plt.show()"
   ]
  },
  {
   "cell_type": "markdown",
   "metadata": {
    "id": "a1vmhEpTzMXI"
   },
   "source": [
    "### Show sample data"
   ]
  },
  {
   "cell_type": "code",
   "execution_count": 9,
   "metadata": {
    "colab": {
     "base_uri": "https://localhost:8080/",
     "height": 286
    },
    "id": "19oa7xmLWyIV",
    "outputId": "21d2314c-16c8-4ea1-b31a-0192a3630519"
   },
   "outputs": [
    {
     "data": {
      "image/png": "[encoded data removed]",
      "text/plain": [
       "<Figure size 432x288 with 1 Axes>"
      ]
     },
     "metadata": {
      "needs_background": "light"
     },
     "output_type": "display_data"
    },
    {
     "name": "stdout",
     "output_type": "stream",
     "text": [
      "torch.Size([3, 360, 360])\n"
     ]
    }
   ],
   "source": [
    "img = dataset_train[randint(0, len(dataset_train))]\n",
    "imshow(img)\n",
    "print(img.shape)"
   ]
  },
  {
   "cell_type": "code",
   "execution_count": 10,
   "metadata": {
    "colab": {
     "base_uri": "https://localhost:8080/"
    },
    "id": "xnwZH3sssuwS",
    "outputId": "f056d290-a1c8-49e7-d3cf-beff0180239f"
   },
   "outputs": [
    {
     "name": "stdout",
     "output_type": "stream",
     "text": [
      "Min size: (33, 42)\n",
      "Average size: (360, 360)\n"
     ]
    }
   ],
   "source": [
    "print(f\"Min size: {min_size}\\nAverage size: {avg_size}\")"
   ]
  },
  {
   "cell_type": "markdown",
   "metadata": {
    "id": "9YvD-EP29jyw"
   },
   "source": [
    "## Model\n"
   ]
  },
  {
   "cell_type": "markdown",
   "metadata": {
    "id": "a4iT_8RmHGKc"
   },
   "source": [
    "### Model definition"
   ]
  },
  {
   "cell_type": "code",
   "execution_count": 11,
   "metadata": {
    "id": "4e86910L90qh"
   },
   "outputs": [],
   "source": [
    "class ResolutionEnhancerModel(nn.Module):\n",
    "    def __init__(self):\n",
    "        super(ResolutionEnhancerModel, self).__init__()                                                               # input image size: 180 x 180\n",
    "        self.conv1 = nn.ConvTranspose2d(in_channels=3, out_channels=10, kernel_size=3, stride=1, padding=1)    # out image size: 180 x180                                                       # out image size:  90 x 90\n",
    "        self.conv2 = nn.ConvTranspose2d(in_channels=10, out_channels=20, kernel_size=3, stride=2, padding=1)   # out image size:  359 x 359\n",
    "        self.conv3 = nn.ConvTranspose2d(in_channels=20, out_channels=3, kernel_size=4, stride=1, padding=1)   # out image size: 360 x 360\n",
    "            \n",
    "    def forward(self, x):\n",
    "        x = F.relu(self.conv1(x))\n",
    "        x = F.relu(self.conv2(x))\n",
    "        x = torch.sigmoid(self.conv3(x))\n",
    "        return x\n",
    "    "
   ]
  },
  {
   "cell_type": "code",
   "execution_count": 12,
   "metadata": {
    "id": "aJ31fjXFGtPj"
   },
   "outputs": [],
   "source": [
    "def train(dataloader, model, loss_fn, optimizer, transform=transforms.Resize((180, 180))):\n",
    "    size = len(dataloader.dataset)\n",
    "    model.train()\n",
    "    train_loss = []\n",
    "    for batch, (original_image_batch) in enumerate(dataloader):\n",
    "        if transform:\n",
    "            t_image_batch = transform(original_image_batch)\n",
    "\n",
    "        t_image_batch = t_image_batch.to(device)\n",
    "        original_image_batch = original_image_batch.to(device)\n",
    "        # Compute prediction error\n",
    "        pred = model(t_image_batch)\n",
    "        loss = loss_fn(pred, original_image_batch)\n",
    "\n",
    "        # Backpropagation\n",
    "        optimizer.zero_grad()\n",
    "        loss.backward()\n",
    "        optimizer.step()\n",
    "\n",
    "        if batch % 1 == 0:\n",
    "            loss, current = loss.item(), batch * len(t_image_batch)\n",
    "            train_loss.append(loss)\n",
    "            print(f\"train loss: {loss:>7f}  [{current:>5d}/{size:>5d}]\")\n",
    "\n",
    "    return (sum(train_loss))/len(train_loss)"
   ]
  },
  {
   "cell_type": "code",
   "execution_count": 13,
   "metadata": {
    "id": "N7hqQz_ZGvZW"
   },
   "outputs": [],
   "source": [
    "def validate(dataloader, model, loss_fn, transform=transforms.Resize((180, 180))):\n",
    "    size = len(dataloader.dataset)\n",
    "    num_batches = len(dataloader)\n",
    "    model.eval()\n",
    "    test_loss, correct = 0, 0\n",
    "    with torch.no_grad():\n",
    "        for original_image_batch in dataloader:\n",
    "            if transform:\n",
    "                t_image_batch = transform(original_image_batch)\n",
    "            t_image_batch = t_image_batch.to(device)\n",
    "            original_image_batch = original_image_batch.to(device)\n",
    "            pred = model(t_image_batch)\n",
    "            test_loss += loss_fn(pred, original_image_batch).item()\n",
    "    test_loss /= num_batches\n",
    "    \n",
    "    return test_loss"
   ]
  },
  {
   "cell_type": "markdown",
   "metadata": {
    "id": "JRlZNwpyInGA"
   },
   "source": [
    "### Model instance and settings"
   ]
  },
  {
   "cell_type": "code",
   "execution_count": 14,
   "metadata": {
    "colab": {
     "base_uri": "https://localhost:8080/"
    },
    "id": "bF9eqCCYIQAv",
    "outputId": "a7a10891-dfbc-4280-8ffa-4ef1ac88dfb8"
   },
   "outputs": [
    {
     "name": "stdout",
     "output_type": "stream",
     "text": [
      "Model definition: \n",
      "----------------------------------------------------------------\n",
      "        Layer (type)               Output Shape         Param #\n",
      "================================================================\n",
      "   ConvTranspose2d-1          [1, 10, 180, 180]             280\n",
      "   ConvTranspose2d-2          [1, 20, 359, 359]           1,820\n",
      "   ConvTranspose2d-3           [1, 3, 360, 360]             963\n",
      "================================================================\n",
      "Total params: 3,063\n",
      "Trainable params: 3,063\n",
      "Non-trainable params: 0\n",
      "----------------------------------------------------------------\n",
      "Input size (MB): 0.37\n",
      "Forward/backward pass size (MB): 25.10\n",
      "Params size (MB): 0.01\n",
      "Estimated Total Size (MB): 25.49\n",
      "----------------------------------------------------------------\n"
     ]
    }
   ],
   "source": [
    "device = torch.device(\"cuda:0\" if torch.cuda.is_available() else \"cpu\")\n",
    "\n",
    "rem = ResolutionEnhancerModel()\n",
    "rem = rem.to(device)\n",
    "\n",
    "learning_rate = 1e-3\n",
    "num_epochs = 1\n",
    "\n",
    "optimizer = torch.optim.Adam(params=rem.parameters(), lr=learning_rate, weight_decay=1e-5)\n",
    "criterion = nn.MSELoss()\n",
    "\n",
    "print(\"Model definition: \")\n",
    "summary(rem, (3, 180, 180), 1)"
   ]
  },
  {
   "cell_type": "markdown",
   "metadata": {
    "id": "VNzEYeEyJdg7"
   },
   "source": [
    "### Train"
   ]
  },
  {
   "cell_type": "code",
   "execution_count": null,
   "metadata": {
    "colab": {
     "base_uri": "https://localhost:8080/"
    },
    "id": "-iWoXkgQJc9G",
    "outputId": "8113d10a-d2eb-4e8c-faf4-46a838236de0"
   },
   "outputs": [
    {
     "name": "stdout",
     "output_type": "stream",
     "text": [
      "Epoch 1\n",
      "-------------------------------\n",
      "train loss: 0.066078  [    0/20000]\n",
      "train loss: 0.062835  [  200/20000]\n",
      "train loss: 0.048179  [  400/20000]\n",
      "train loss: 0.040766  [  600/20000]\n",
      "train loss: 0.028223  [  800/20000]\n",
      "train loss: 0.018714  [ 1000/20000]\n",
      "train loss: 0.013080  [ 1200/20000]\n",
      "train loss: 0.008273  [ 1400/20000]\n"
     ]
    }
   ],
   "source": [
    "val_loss_avg = []\n",
    "train_loss_avg = []\n",
    "for t in range(num_epochs):\n",
    "    print(f\"Epoch {t+1}\\n-------------------------------\")\n",
    "    train_loss = train(dataloader_train, rem, criterion, optimizer)\n",
    "    val_loss = validate(dataloader_validation, rem, criterion)\n",
    "    \n",
    "    train_loss_avg.append(train_loss)\n",
    "    val_loss_avg.append(val_loss)\n",
    "    \n",
    "    print(f\"Train loss: {train_loss:>8f}\\nTest Error: {val_loss:>8f} \\n\")\n",
    "    \n",
    "print(\"Done!\")"
   ]
  },
  {
   "cell_type": "markdown",
   "metadata": {
    "id": "6zZ0vnTjP4kU"
   },
   "source": [
    "### Learning curve"
   ]
  },
  {
   "cell_type": "code",
   "execution_count": null,
   "metadata": {
    "id": "mBvf7vIMP29y"
   },
   "outputs": [],
   "source": [
    "import matplotlib.pyplot as plt\n",
    "plt.ion()\n",
    "\n",
    "fig = plt.figure()\n",
    "plt.plot(val_loss_avg)\n",
    "plt.plot(train_loss_avg)\n",
    "plt.xlabel('Epochs')\n",
    "plt.ylabel('Loss')\n",
    "plt.show()"
   ]
  },
  {
   "cell_type": "markdown",
   "metadata": {
    "id": "dGgrIFdTP9Jk"
   },
   "source": [
    "### Evaluate model"
   ]
  },
  {
   "cell_type": "code",
   "execution_count": null,
   "metadata": {
    "id": "t3itN7bbQDvn"
   },
   "outputs": [],
   "source": [
    "test_loss = validate(dataloader_test, rem, criterion)\n",
    "print('average reconstruction error: %f' % (test_loss))"
   ]
  },
  {
   "cell_type": "markdown",
   "metadata": {},
   "source": [
    "## Saving model"
   ]
  },
  {
   "cell_type": "code",
   "execution_count": null,
   "metadata": {},
   "outputs": [],
   "source": [
    "from datetime import datetime\n",
    "def save_model(name, model, path='../model/'):\n",
    "    now = datetime.now()\n",
    "    dt_string = now.strftime(\"%d%m%Y_%H_%M\")\n",
    "    model_name = name + \"_\" + dt_string\n",
    "    full_path = path+model_name+\".pth\"\n",
    "    torch.save(rae.state_dict(), full_path)\n",
    "    \n",
    "    print(f\"Succesfully saved model !!!\\nPath: {path}\\nName: {model_name}\\n Model Summary: \\n{summary(model, (3, *input_size), batch_size)}\")\n",
    "    \n",
    "    return full_path"
   ]
  },
  {
   "cell_type": "code",
   "execution_count": null,
   "metadata": {},
   "outputs": [],
   "source": [
    "current_model_path = save_model(\"REM\", rae)"
   ]
  },
  {
   "cell_type": "markdown",
   "metadata": {
    "id": "1Kaui8UARWd6"
   },
   "source": [
    "## Model Result Visualization"
   ]
  },
  {
   "cell_type": "code",
   "execution_count": null,
   "metadata": {},
   "outputs": [],
   "source": [
    "# for testing\n",
    "# current_model_path = '../model/RAE_08112021_18_35'\n",
    "saved_rem = ResolutionEnhancerModel()\n",
    "saved_rem.load_state_dict(torch.load(current_model_path))"
   ]
  },
  {
   "cell_type": "code",
   "execution_count": null,
   "metadata": {},
   "outputs": [],
   "source": [
    "def to_img(x):\n",
    "    x = x.clamp(0, 1)\n",
    "    return x\n",
    "\n",
    "def show_image_tensor(img):\n",
    "    img = make_grid(img,10,5)\n",
    "    img = to_img(img)\n",
    "    npimg = img.numpy()\n",
    "    show_image_numpy(img)\n",
    "    \n",
    "def show_image_numpy(img):\n",
    "    plt.imshow(np.transpose(img, (1, 2, 0)))\n",
    "    plt.show()"
   ]
  },
  {
   "cell_type": "code",
   "execution_count": null,
   "metadata": {
    "id": "O-b34iV1ReOO"
   },
   "outputs": [],
   "source": [
    "test_itr = iter(dataloader_test)"
   ]
  },
  {
   "cell_type": "markdown",
   "metadata": {},
   "source": [
    "### Original image"
   ]
  },
  {
   "cell_type": "code",
   "execution_count": null,
   "metadata": {},
   "outputs": [],
   "source": [
    "original_image = test_itr.next()\n",
    "\n",
    "show_image_tensor(original_image)"
   ]
  },
  {
   "cell_type": "code",
   "execution_count": null,
   "metadata": {},
   "outputs": [],
   "source": [
    "show_image_tensor(original_image[0])"
   ]
  },
  {
   "cell_type": "markdown",
   "metadata": {},
   "source": [
    "### Resized down"
   ]
  },
  {
   "cell_type": "code",
   "execution_count": null,
   "metadata": {},
   "outputs": [],
   "source": [
    "resized_image = transforms.Resize(input_size)(original_image)\n",
    "show_image_tensor(resized_image)"
   ]
  },
  {
   "cell_type": "code",
   "execution_count": null,
   "metadata": {},
   "outputs": [],
   "source": [
    "show_image_tensor(resized_image[0])"
   ]
  },
  {
   "cell_type": "code",
   "execution_count": null,
   "metadata": {},
   "outputs": [],
   "source": [
    "pred = saved_rem(resized_image)\n",
    "show_image_tensor(pred)"
   ]
  },
  {
   "cell_type": "code",
   "execution_count": null,
   "metadata": {},
   "outputs": [],
   "source": [
    "pred = pred.detach().numpy()\n",
    "show_image_numpy(pred[0])"
   ]
  }
 ],
 "metadata": {
  "colab": {
   "collapsed_sections": [],
   "name": "Untitled4.ipynb",
   "provenance": [],
   "toc_visible": true
  },
  "kernelspec": {
   "display_name": "Python 3",
   "language": "python",
   "name": "python3"
  },
  "language_info": {
   "codemirror_mode": {
    "name": "ipython",
    "version": 3
   },
   "file_extension": ".py",
   "mimetype": "text/x-python",
   "name": "python",
   "nbconvert_exporter": "python",
   "pygments_lexer": "ipython3",
   "version": "3.6.9"
  }
 },
 "nbformat": 4,
 "nbformat_minor": 1
}
